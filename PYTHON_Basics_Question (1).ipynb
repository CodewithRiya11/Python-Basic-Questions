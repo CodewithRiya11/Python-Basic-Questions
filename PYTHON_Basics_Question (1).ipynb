{
  "nbformat": 4,
  "nbformat_minor": 0,
  "metadata": {
    "colab": {
      "provenance": []
    },
    "kernelspec": {
      "name": "python3",
      "display_name": "Python 3"
    },
    "language_info": {
      "name": "python"
    }
  },
  "cells": [
    {
      "cell_type": "markdown",
      "source": [
        "PYTHON BASICS QUESTION\n",
        "\n",
        "#1 What is Python, and why is it popular?\n",
        "# Python is a high-level, interpreted programming language known for its simplicity, readability, and versatility. It is popular due to its easy syntax, extensive libraries, cross-platform compatibility, and strong community support.\n",
        "\n",
        "#2 What is an interpreter in Python?\n",
        "# An interpreter is a program that executes Python code line by line, converting it into machine-readable instructions without requiring compilation.\n",
        "\n",
        "#3 What are pre-defined keywords in Python?\n",
        "# Pre-defined keywords are reserved words in Python with special meanings, such as if, else, for, while, def, class, return, etc.\n",
        "\n",
        "#4 Can keywords be used as variable names?\n",
        "# No, keywords cannot be used as variable names because they are reserved for specific functionalities in Python.\n",
        "\n",
        "#5 What is mutability in Python?\n",
        "# Mutability refers to whether an object can be changed after creation. Mutable objects can be modified, while immutable objects cannot.\n",
        "\n",
        "#6 Why are lists mutable, but tuples are immutable?\n",
        "# Lists are mutable because their elements can be modified after creation, whereas tuples are immutable to ensure data integrity and better performance.\n",
        "\n",
        "#7 What is the difference between == and is operators in Python?\n",
        "\n",
        "# == checks for value equality (whether two variables have the same value).\n",
        "\n",
        "# is checks for identity equality (whether two variables refer to the same object in memory).\n",
        "\n",
        "#8 What are logical operators in Python?\n",
        "# Python has three logical operators:\n",
        "\n",
        "# and (returns True if both conditions are True)\n",
        "\n",
        "# or (returns True if at least one condition is True)\n",
        "\n",
        "# not (negates the boolean value)\n",
        "\n",
        "#9 What is type casting in Python?\n",
        "# Type casting is converting a variable from one data type to another, e.g., int(\"5\") converts a string \"5\" to an integer.\n",
        "\n",
        "#9 What is the difference between implicit and explicit type casting?\n",
        "\n",
        "# Implicit Casting: Python automatically converts a smaller type to a larger type (e.g., int to float).\n",
        "\n",
        "# Explicit Casting: The programmer manually converts a type using functions like int(), float(), str().\n",
        "\n",
        "#10 What is the purpose of conditional statements in Python?\n",
        "# Conditional statements (if, elif, else) control the program’s flow by executing different blocks of code based on conditions.\n",
        "\n",
        "#11 How does the elif statement work?\n",
        "# The elif (else if) statement allows checking multiple conditions in sequence. If the if condition is false, Python evaluates elif conditions before executing else.\n",
        "\n",
        "#12 What is the difference between for and while loops?\n",
        "\n",
        "# For loop: Iterates over a sequence (e.g., list, range) for a known number of times.\n",
        "\n",
        "# While loop: Runs as long as a condition remains true, making it useful for unknown iterations.\n",
        "\n",
        "#13 Describe a scenario where a while loop is more suitable than a for loop.\n",
        "# A while loop is better when the number of iterations is unknown.\n",
        "# Example: Reading user input until a valid response is given:\n",
        "\n",
        "#user_input = \"\"\n",
        "# while user_input.lower() != \"yes\":\n",
        "#     user_input = input(\"Do you want to continue? (yes/no): \")\n",
        "\n",
        "# Here, the loop continues until the user types \"yes\"."
      ],
      "metadata": {
        "id": "yecSOt_NkB-Y"
      }
    },
    {
      "cell_type": "code",
      "source": [
        "#PRACTICAL QUESTIONS"
      ],
      "metadata": {
        "id": "bTHkKgB7WR2X"
      },
      "execution_count": null,
      "outputs": []
    },
    {
      "cell_type": "code",
      "execution_count": null,
      "metadata": {
        "colab": {
          "base_uri": "https://localhost:8080/"
        },
        "id": "8m4Tueb0sZJy",
        "outputId": "cd204789-9d33-4950-8f1a-10285ac779c9"
      },
      "outputs": [
        {
          "output_type": "stream",
          "name": "stdout",
          "text": [
            "Hello World\n"
          ]
        }
      ],
      "source": [
        "#1 Write a Python program to print \"Hello, World!\n",
        "my_code=\"Hello World\"\n",
        "print(my_code)"
      ]
    },
    {
      "cell_type": "code",
      "source": [
        "#2 Write a Python program that displays your name and age\n",
        "my_name=\"Riya\"\n",
        "my_age=21\n",
        "print(f\"my name is {my_name} & age is {my_age}\")\n"
      ],
      "metadata": {
        "colab": {
          "base_uri": "https://localhost:8080/"
        },
        "id": "rUZWvxNws7G9",
        "outputId": "b98e1370-1df4-4c57-b39e-c44e1697fd73"
      },
      "execution_count": null,
      "outputs": [
        {
          "output_type": "stream",
          "name": "stdout",
          "text": [
            "my name is Riya & age is 21\n"
          ]
        }
      ]
    },
    {
      "cell_type": "code",
      "source": [
        "#3 Write code to print all the pre-defined keywords in Python using the keyword library\n",
        "keywords = [\n",
        "    \"False\", \"None\", \"True\", \"and\", \"as\", \"assert\", \"async\", \"await\", \"break\",\n",
        "    \"class\", \"continue\", \"def\", \"del\", \"elif\", \"else\", \"except\", \"finally\",\n",
        "    \"for\", \"from\", \"global\", \"if\", \"import\", \"in\", \"is\", \"lambda\", \"nonlocal\",\n",
        "    \"not\", \"or\", \"pass\", \"raise\", \"return\", \"try\", \"while\", \"with\", \"yield\"\n",
        "]\n",
        "\n",
        "print(\", \".join(keywords))"
      ],
      "metadata": {
        "colab": {
          "base_uri": "https://localhost:8080/"
        },
        "id": "tOHK5hcvt3w-",
        "outputId": "2e86e157-10ba-4a34-cdd7-4654f3cdd42e"
      },
      "execution_count": null,
      "outputs": [
        {
          "output_type": "stream",
          "name": "stdout",
          "text": [
            "False, None, True, and, as, assert, async, await, break, class, continue, def, del, elif, else, except, finally, for, from, global, if, import, in, is, lambda, nonlocal, not, or, pass, raise, return, try, while, with, yield\n"
          ]
        }
      ]
    },
    {
      "cell_type": "code",
      "source": [
        "#4 Write a program that checks if a given word is a Python keyword\n",
        "\n",
        "keywords = [\n",
        "    \"False\", \"None\", \"True\", \"and\", \"as\", \"assert\", \"async\", \"await\", \"break\",\n",
        "    \"class\", \"continue\", \"def\", \"del\", \"elif\", \"else\", \"except\", \"finally\",\n",
        "    \"for\", \"from\", \"global\", \"if\", \"import\", \"in\", \"is\", \"lambda\", \"nonlocal\",\n",
        "    \"not\", \"or\", \"pass\", \"raise\", \"return\", \"try\", \"while\", \"with\", \"yield\"\n",
        "]\n",
        "words=\"True\"\n",
        "if words in keywords:\n",
        "    print(\"yes,it is a keyword\")\n",
        "\n",
        "else:\n",
        "    print(\"No,it is not a keyword\")\n",
        "\n",
        "\n",
        "\n",
        "\n"
      ],
      "metadata": {
        "id": "R6_1AUeduxM5",
        "colab": {
          "base_uri": "https://localhost:8080/"
        },
        "outputId": "db825f3e-967b-4932-b04a-58a156fc72e3"
      },
      "execution_count": null,
      "outputs": [
        {
          "output_type": "stream",
          "name": "stdout",
          "text": [
            "yes,it is a keyword\n"
          ]
        }
      ]
    },
    {
      "cell_type": "code",
      "source": [
        " #5 Create a list and tuple in Python, and demonstrate how attempting to change an element works differently\n",
        "# for each\n",
        "my_list=[1,2,3]\n",
        "my_list[1]=10\n",
        "print(my_list)#(List is Mutable so new output is [1,10,3])\n",
        "\n",
        "my_tuple=(1,2,3)\n",
        "my_tuple[1]=10\n",
        "print(my_tuple) #(Tuple is Immutable so it does not support Item Assignment so it will show error.)"
      ],
      "metadata": {
        "colab": {
          "base_uri": "https://localhost:8080/",
          "height": 211
        },
        "id": "ndevCVwAkjGm",
        "outputId": "1ea1245d-c5fc-41d6-e8e0-21d6239255c8"
      },
      "execution_count": null,
      "outputs": [
        {
          "output_type": "stream",
          "name": "stdout",
          "text": [
            "[1, 10, 3]\n"
          ]
        },
        {
          "output_type": "error",
          "ename": "TypeError",
          "evalue": "'tuple' object does not support item assignment",
          "traceback": [
            "\u001b[0;31m---------------------------------------------------------------------------\u001b[0m",
            "\u001b[0;31mTypeError\u001b[0m                                 Traceback (most recent call last)",
            "\u001b[0;32m<ipython-input-10-328225baed7a>\u001b[0m in \u001b[0;36m<cell line: 0>\u001b[0;34m()\u001b[0m\n\u001b[1;32m      6\u001b[0m \u001b[0;34m\u001b[0m\u001b[0m\n\u001b[1;32m      7\u001b[0m \u001b[0mmy_tuple\u001b[0m\u001b[0;34m=\u001b[0m\u001b[0;34m(\u001b[0m\u001b[0;36m1\u001b[0m\u001b[0;34m,\u001b[0m\u001b[0;36m2\u001b[0m\u001b[0;34m,\u001b[0m\u001b[0;36m3\u001b[0m\u001b[0;34m)\u001b[0m\u001b[0;34m\u001b[0m\u001b[0;34m\u001b[0m\u001b[0m\n\u001b[0;32m----> 8\u001b[0;31m \u001b[0mmy_tuple\u001b[0m\u001b[0;34m[\u001b[0m\u001b[0;36m1\u001b[0m\u001b[0;34m]\u001b[0m\u001b[0;34m=\u001b[0m\u001b[0;36m10\u001b[0m\u001b[0;34m\u001b[0m\u001b[0;34m\u001b[0m\u001b[0m\n\u001b[0m\u001b[1;32m      9\u001b[0m \u001b[0mprint\u001b[0m\u001b[0;34m(\u001b[0m\u001b[0mmy_tuple\u001b[0m\u001b[0;34m)\u001b[0m\u001b[0;34m\u001b[0m\u001b[0;34m\u001b[0m\u001b[0m\n",
            "\u001b[0;31mTypeError\u001b[0m: 'tuple' object does not support item assignment"
          ]
        }
      ]
    },
    {
      "cell_type": "code",
      "source": [
        "#6 Write a function to demonstrate the behavior of mutable and immutable arguments\n",
        "# Immutable Example (Numbers)\n",
        "a = 5  # Assign value to a\n",
        "b = a  # Copy value of a to b\n",
        "b = b + 1  # Change b\n",
        "\n",
        "print(\"Immutable Example:\")\n",
        "print(\"a:\", a)  # a remains the same\n",
        "print(\"b:\", b)  # b is different\n",
        "\n",
        "print(\"\\n\")\n",
        "\n",
        "# Mutable Example (Lists)\n",
        "x = [1, 2, 3]  # Assign list to x\n",
        "y = x  # Copy reference of x to y\n",
        "y.append(4)  # Change y\n",
        "\n",
        "print(\"Mutable Example:\")\n",
        "print(\"x:\", x)  # x is also changed\n",
        "print(\"y:\", y)  # y is changed\n",
        "\n"
      ],
      "metadata": {
        "colab": {
          "base_uri": "https://localhost:8080/"
        },
        "id": "Z4oqn21tmp5v",
        "outputId": "43b4daf8-ec5e-4bf1-ca46-22c7b9b0ce45"
      },
      "execution_count": null,
      "outputs": [
        {
          "output_type": "stream",
          "name": "stdout",
          "text": [
            "Immutable Example:\n",
            "a: 5\n",
            "b: 6\n",
            "\n",
            "\n",
            "Mutable Example:\n",
            "x: [1, 2, 3, 4]\n",
            "y: [1, 2, 3, 4]\n"
          ]
        }
      ]
    },
    {
      "cell_type": "code",
      "source": [
        "#7 Write a function to demonstrate the behavior of mutable and immutable arguments\n",
        "#REPEATED QUESTION AS ABOVE\n"
      ],
      "metadata": {
        "id": "Df0X0qR-oMhl"
      },
      "execution_count": null,
      "outputs": []
    },
    {
      "cell_type": "code",
      "source": [
        "#8 Write a program to demonstrate the use of logical operators\n",
        "a=12\n",
        "b=10\n",
        "a>b #True will be returned since 12 is greater than 10.\n",
        "a==b #False will be returned since 12 does not equals to 10.\n",
        "a!=b #True,as 10 dosent equals to 12.\n"
      ],
      "metadata": {
        "colab": {
          "base_uri": "https://localhost:8080/"
        },
        "id": "djbs9z-UoXAx",
        "outputId": "3420ed77-3184-4e8b-adec-7ea33bd9d4bc"
      },
      "execution_count": null,
      "outputs": [
        {
          "output_type": "execute_result",
          "data": {
            "text/plain": [
              "True"
            ]
          },
          "metadata": {},
          "execution_count": 15
        }
      ]
    },
    {
      "cell_type": "code",
      "source": [
        " #9 Write a Python program to convert user input from string to integer, float, and boolean types\n",
        "a=input(\"Enter the input\") #(By default,it will take input as String)\n",
        "b=int(a) #(a is been done explicit typecasting from sttring to integer)\n",
        "type(b)\n",
        "\n",
        "c=float(a) #(a is been done explicit typecasting from string to Float)\n",
        "print(c)\n",
        "type(c)\n",
        "\n",
        "d=bool(a)  #(a is been done explicit typecasting from string to Bool)\n",
        "print(d)\n",
        "type(d)"
      ],
      "metadata": {
        "colab": {
          "base_uri": "https://localhost:8080/"
        },
        "id": "2WEpHD7Zo7NX",
        "outputId": "848fc260-8d14-43fb-d470-c5173687bb81"
      },
      "execution_count": null,
      "outputs": [
        {
          "output_type": "stream",
          "name": "stdout",
          "text": [
            "Enter the input34\n",
            "<class 'int'>\n",
            "34.0\n",
            "True\n"
          ]
        },
        {
          "output_type": "execute_result",
          "data": {
            "text/plain": [
              "bool"
            ]
          },
          "metadata": {},
          "execution_count": 23
        }
      ]
    },
    {
      "cell_type": "code",
      "source": [
        "#10 Write code to demonstrate type casting with list elements\n",
        "Fruits=[1,2,3,4]\n",
        "bool(Fruits[1])\n",
        "\n",
        "float(Fruits[3])\n"
      ],
      "metadata": {
        "colab": {
          "base_uri": "https://localhost:8080/"
        },
        "id": "1joxg5d_pxZR",
        "outputId": "a09ed3b9-7990-4da9-e17a-31282430c723"
      },
      "execution_count": null,
      "outputs": [
        {
          "output_type": "execute_result",
          "data": {
            "text/plain": [
              "4.0"
            ]
          },
          "metadata": {},
          "execution_count": 29
        }
      ]
    },
    {
      "cell_type": "code",
      "source": [
        "#11 Write a program that checks if a number is positive, negative, or zero\n",
        "number=10\n",
        "if number>0:\n",
        "  print(\"The number is positive\")\n",
        "\n",
        "elif number==0:\n",
        "  print(\"Number is zero\")\n",
        "else:\n",
        "  print(\"Number is negative\")\n"
      ],
      "metadata": {
        "colab": {
          "base_uri": "https://localhost:8080/"
        },
        "id": "M82dsAJqsE5Z",
        "outputId": "06b92f30-ba47-4104-b5da-ff41d8c75fb3"
      },
      "execution_count": null,
      "outputs": [
        {
          "output_type": "stream",
          "name": "stdout",
          "text": [
            "The number is positive\n"
          ]
        }
      ]
    },
    {
      "cell_type": "code",
      "source": [
        "#12 Write a for loop to print numbers from 1 to 100\n",
        "i=1\n",
        "n=100\n",
        "for i in range(i,n+1):  #Using For Loop\n",
        "  print(i)\n",
        "\n",
        "\n",
        "while i<=n:\n",
        "  print(i) #Using While Loop\n",
        "  i+=1\n"
      ],
      "metadata": {
        "colab": {
          "base_uri": "https://localhost:8080/"
        },
        "id": "AiO489VntB4h",
        "outputId": "784c902b-00a4-462b-b2c0-7afd42ab1502"
      },
      "execution_count": null,
      "outputs": [
        {
          "output_type": "stream",
          "name": "stdout",
          "text": [
            "1\n",
            "2\n",
            "3\n",
            "4\n",
            "5\n",
            "6\n",
            "7\n",
            "8\n",
            "9\n",
            "10\n",
            "11\n",
            "12\n",
            "13\n",
            "14\n",
            "15\n",
            "16\n",
            "17\n",
            "18\n",
            "19\n",
            "20\n",
            "21\n",
            "22\n",
            "23\n",
            "24\n",
            "25\n",
            "26\n",
            "27\n",
            "28\n",
            "29\n",
            "30\n",
            "31\n",
            "32\n",
            "33\n",
            "34\n",
            "35\n",
            "36\n",
            "37\n",
            "38\n",
            "39\n",
            "40\n",
            "41\n",
            "42\n",
            "43\n",
            "44\n",
            "45\n",
            "46\n",
            "47\n",
            "48\n",
            "49\n",
            "50\n",
            "51\n",
            "52\n",
            "53\n",
            "54\n",
            "55\n",
            "56\n",
            "57\n",
            "58\n",
            "59\n",
            "60\n",
            "61\n",
            "62\n",
            "63\n",
            "64\n",
            "65\n",
            "66\n",
            "67\n",
            "68\n",
            "69\n",
            "70\n",
            "71\n",
            "72\n",
            "73\n",
            "74\n",
            "75\n",
            "76\n",
            "77\n",
            "78\n",
            "79\n",
            "80\n",
            "81\n",
            "82\n",
            "83\n",
            "84\n",
            "85\n",
            "86\n",
            "87\n",
            "88\n",
            "89\n",
            "90\n",
            "91\n",
            "92\n",
            "93\n",
            "94\n",
            "95\n",
            "96\n",
            "97\n",
            "98\n",
            "99\n",
            "100\n"
          ]
        }
      ]
    },
    {
      "cell_type": "code",
      "source": [
        "#13 Write a Python program to find the sum of all even numbers between 1 and 50\n",
        "i=1\n",
        "sum=0\n",
        "n=50\n",
        "while i<=n:\n",
        "  if i%2==0:\n",
        "    sum=sum+i\n",
        "    i+=1\n",
        "print(sum)"
      ],
      "metadata": {
        "id": "4nnuzQGOts-P"
      },
      "execution_count": null,
      "outputs": []
    },
    {
      "cell_type": "code",
      "source": [
        "#14 Write a program to reverse a string using a while loop\n",
        "name=\"Arpit\"\n",
        "print(name[0::-1])\n"
      ],
      "metadata": {
        "id": "BvJ7lKG3ugY9"
      },
      "execution_count": null,
      "outputs": []
    },
    {
      "cell_type": "code",
      "source": [
        "#15 Write a Python program to calculate the factorial of a number provided by the user using a while loop.\n",
        "i=1\n",
        "n=int(input(\"enter the number: \"))\n",
        "while i<=n:\n",
        "  factorial=n*(n-1)\n",
        "  i+=1\n",
        "print(factorial)\n"
      ],
      "metadata": {
        "id": "hNbqBT4RwEjv",
        "colab": {
          "base_uri": "https://localhost:8080/"
        },
        "outputId": "84c2c37c-d23b-4818-bb08-0b82d9e59658"
      },
      "execution_count": null,
      "outputs": [
        {
          "output_type": "stream",
          "name": "stdout",
          "text": [
            "enter the number: 4\n",
            "12\n"
          ]
        }
      ]
    },
    {
      "cell_type": "code",
      "source": [],
      "metadata": {
        "id": "F8bQfy_KUk6q"
      },
      "execution_count": null,
      "outputs": []
    }
  ]
}